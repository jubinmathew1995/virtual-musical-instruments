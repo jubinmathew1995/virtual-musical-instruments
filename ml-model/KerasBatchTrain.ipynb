{
  "nbformat": 4,
  "nbformat_minor": 0,
  "metadata": {
    "colab": {
      "name": "NewKerasBatchTrain.ipynb",
      "version": "0.3.2",
      "views": {},
      "default_view": {},
      "provenance": [],
      "collapsed_sections": [],
      "toc_visible": true
    },
    "kernelspec": {
      "name": "python3",
      "display_name": "Python 3"
    },
    "accelerator": "GPU"
  },
  "cells": [
    {
      "metadata": {
        "id": "DL7YyqCbTCNz",
        "colab_type": "code",
        "colab": {
          "autoexec": {
            "startup": false,
            "wait_interval": 0
          }
        }
      },
      "cell_type": "code",
      "source": [
        "!rm -rf *"
      ],
      "execution_count": 0,
      "outputs": []
    },
    {
      "metadata": {
        "id": "qJY25PA9jTvE",
        "colab_type": "code",
        "colab": {
          "autoexec": {
            "startup": false,
            "wait_interval": 0
          }
        }
      },
      "cell_type": "code",
      "source": [
        "import os\n",
        "import cv2\n",
        "import numpy as np\n",
        "\n",
        "!rm *.zip\n",
        "!rm -R data\n",
        "!mkdir data\n",
        "!mkdir data/train\n",
        "!mkdir data/test\n",
        "\n",
        "# MNIST\n",
        "# https://drive.google.com/uc?authuser=0&id=***************&export=download\n",
        "# !wget --no-check-certificate 'https://drive.google.com/uc?id=14wt2jNlJ6O_mD4iwDuFWGUHLq26fgg6r&export=download' -O train_0.zip\n",
        "# !wget --no-check-certificate 'https://drive.google.com/uc?id=1J4zzM9riershoFWP8JHduV0xltiuk51W&export=download' -O train_1.zip\n",
        "# !wget --no-check-certificate 'https://drive.google.com/uc?id=1XCj4ud40si9-wlFhvjGlCR1VBNdC7YE5&export=download' -O test_0.zip\n",
        "# !wget --no-check-certificate 'https://drive.google.com/uc?id=1JLLxyAgK8RwoVehTTMqH16QILOfDNK-8&export=download' -O test_1.zip\n",
        "\n",
        "# piano\n",
        "# !wget --no-check-certificate 'https://drive.google.com/uc?id=1PotHcr_gDYkS5aNL36_KKLwuVcSUEYBD&export=download' -O train_0.zip\n",
        "# !wget --no-check-certificate 'https://drive.google.com/uc?id=1XKrS7whwu4INmAL-mmGRa9GN5Nn6Z54G&export=download' -O train_1.zip\n",
        "# !wget --no-check-certificate 'https://drive.google.com/uc?id=1FV86TVW4z4R3i6f344D1Ksw1qLOFLu2I&export=download' -O test_0.zip\n",
        "# !wget --no-check-certificate 'https://drive.google.com/uc?id=1DKSNJRsGjktJkBPxWz6lmN5sUj6X5D_I&export=download' -O test_1.zip\n",
        "\n",
        "# jubin key0 key1\n",
        "!wget --no-check-certificate 'https://drive.google.com/uc?id=1WPzC9wBToLwMe7vLmc-SLpqnQyEtW62C&export=download' -O train_1.zip\n",
        "!wget --no-check-certificate 'https://drive.google.com/uc?id=1QOd3cry_1c-6Jgdyl5bcFCAG9pTSra-q&export=download' -O train_0.zip\n",
        "!wget --no-check-certificate 'https://drive.google.com/uc?id=1qXcbu7SVCNVWsuMATH_pzyn3T_2Kdj7-&export=download' -O test_1.zip\n",
        "!wget --no-check-certificate 'https://drive.google.com/uc?id=1Z3weW6eXHTx6ck7fey7BlJt6Nyxn8Is2&export=download' -O test_0.zip\n",
        "\n",
        "\n",
        "\n",
        "\n",
        "print(\"Extracting training data...\")\n",
        "!unzip train_0.zip -d data/train>/dev/null\n",
        "!unzip train_1.zip -d data/train>/dev/null\n",
        "\n",
        "print(\"Extracting testing data...\")\n",
        "!unzip test_0.zip -d data/test>/dev/null\n",
        "!unzip test_1.zip -d data/test>/dev/null\n",
        "print(\"Extracted successfully\")\n",
        "\n",
        "!rm train_0.zip\n",
        "!rm train_1.zip\n",
        "!rm test_0.zip\n",
        "!rm test_1.zip\n",
        "\n",
        "print(\"Done\")"
      ],
      "execution_count": 0,
      "outputs": []
    },
    {
      "metadata": {
        "id": "1l_p-xXsECz3",
        "colab_type": "code",
        "colab": {
          "autoexec": {
            "startup": false,
            "wait_interval": 0
          }
        }
      },
      "cell_type": "code",
      "source": [
        "from __future__ import print_function\n",
        "import keras\n",
        "from keras.datasets import mnist\n",
        "from keras.models import Sequential\n",
        "from keras.layers import Dense, Dropout, Flatten\n",
        "from keras.layers import Conv2D, MaxPooling2D\n",
        "from keras import backend as K\n",
        "\n",
        "batch_size = 20\n",
        "num_classes = 2\n",
        "epochs = 2\n",
        "\n",
        "# input image dimensions\n",
        "img_rows, img_cols = 300, 300\n",
        "input_shape = (img_rows, img_cols, 1)\n",
        "\n",
        "#golbal var\n",
        "name_label = []\n",
        "    \n",
        "for label in os.listdir('data/train/'):\n",
        "  for img in os.listdir('data/train/'+label):\n",
        "    name_label.append(['data/train/'+label+\"/\"+img, label])\n",
        "npArray = np.array(name_label)\n",
        "# print(npArray)\n",
        "print(npArray.shape)\n",
        "np.random.shuffle(npArray)\n",
        "\n",
        "npArraySize = npArray.shape[0]\n",
        "# print(size)\n",
        "startIndexList = range(0, int(npArraySize/batch_size)*batch_size, batch_size)\n",
        "# batchGenerator\n",
        "def batchGenerator():\n",
        "  for i in startIndexList:\n",
        "    image_arr = []\n",
        "    label_arr = []\n",
        "    for j in range(i,i+batch_size,1):\n",
        "#         print(npArray[j][0],end=' ')\n",
        "      img = cv2.imread(npArray[j][0], cv2.IMREAD_GRAYSCALE)\n",
        "      image_arr.append(img)\n",
        "      label_arr.append(int(npArray[j][1]))\n",
        "    x_train = np.array(image_arr)\n",
        "    y_train = np.array(label_arr)\n",
        "#     print(\"before yield: batch = \", i)\n",
        "    yield (x_train, y_train)"
      ],
      "execution_count": 0,
      "outputs": []
    },
    {
      "metadata": {
        "id": "I54OUiY7TxIi",
        "colab_type": "code",
        "colab": {
          "autoexec": {
            "startup": false,
            "wait_interval": 0
          }
        }
      },
      "cell_type": "code",
      "source": [
        "np.array(cv2.imread(npArray[0][0], cv2.IMREAD_GRAYSCALE)).shape"
      ],
      "execution_count": 0,
      "outputs": []
    },
    {
      "metadata": {
        "id": "Vu_ilsN9Fic3",
        "colab_type": "code",
        "colab": {
          "autoexec": {
            "startup": false,
            "wait_interval": 0
          }
        }
      },
      "cell_type": "code",
      "source": [
        "# x_test data extraction\n",
        "image_arr_test = []\n",
        "label_arr_test = []\n",
        "for label in os.listdir('data/test/'):\n",
        "  for img in os.listdir('data/test/'+label):\n",
        "    path = 'data/test/'+label+\"/\"+img\n",
        "    img = cv2.imread(path, cv2.IMREAD_GRAYSCALE)\n",
        "    image_arr_test.append(img)\n",
        "    label_arr_test.append(int(label))\n",
        "x_test = np.array(image_arr_test)\n",
        "y_test = np.array(label_arr_test)"
      ],
      "execution_count": 0,
      "outputs": []
    },
    {
      "metadata": {
        "id": "ez768DyiSefB",
        "colab_type": "code",
        "colab": {
          "autoexec": {
            "startup": false,
            "wait_interval": 0
          }
        }
      },
      "cell_type": "code",
      "source": [
        "# Model\n",
        "model = Sequential()\n",
        "model.add(Conv2D(32, kernel_size=(3, 3),\n",
        "                 activation='relu',\n",
        "                 input_shape=input_shape))\n",
        "model.add(Conv2D(64, (3, 3), activation='relu'))\n",
        "model.add(MaxPooling2D(pool_size=(2, 2)))\n",
        "model.add(Dropout(0.25))\n",
        "model.add(Flatten())\n",
        "model.add(Dense(128, activation='relu'))\n",
        "model.add(Dropout(0.5))\n",
        "model.add(Dense(num_classes, activation='softmax'))\n",
        "\n",
        "model.compile(loss=keras.losses.categorical_crossentropy,\n",
        "              optimizer=keras.optimizers.Adadelta(),\n",
        "              metrics=['accuracy'])\n",
        "\n",
        "# For BatchGenerator that yields a smaller batch of samples at a time\n",
        "for e in range(epochs):\n",
        "  print(\"epoch %d\" % e)\n",
        "  # call for batchGenerator\n",
        "  b = 0\n",
        "  for x_train, y_train in batchGenerator():\n",
        "    if K.image_data_format() == 'channels_first':\n",
        "        x_train = x_train.reshape(x_train.shape[0], 1, img_rows, img_cols)\n",
        "        input_shape = (1, img_rows, img_cols)\n",
        "    else:\n",
        "        x_train = x_train.reshape(x_train.shape[0], img_rows, img_cols, 1)\n",
        "        input_shape = (img_rows, img_cols, 1)\n",
        "    x_train = x_train.astype('float32')\n",
        "    x_train /= 255\n",
        "    # convert class vectors to binary class matrices\n",
        "    y_train = keras.utils.to_categorical(y_train, num_classes)\n",
        "#     model.fit_generator(batchGenerator(), samples_per_epoch=int(npArray.shape[0]/batch_size)*batch_size, nb_epoch=2)\n",
        "    score = model.train_on_batch(x_train, y_train)\n",
        "#     model.fit(x_train, y_train,\n",
        "#               epochs=1,\n",
        "#               verbose=0,\n",
        "#               validation_split=0.05)\n",
        "    model.save(\"my-model.h5\")\n",
        "    b += 1\n",
        "    print(b ,score)"
      ],
      "execution_count": 0,
      "outputs": []
    },
    {
      "metadata": {
        "id": "RhcVg4MAIhev",
        "colab_type": "code",
        "colab": {
          "autoexec": {
            "startup": false,
            "wait_interval": 0
          }
        }
      },
      "cell_type": "code",
      "source": [
        "from keras.models import load_model\n",
        "model = load_model(\"my-model.h5\")\n",
        "# (x_test, y_test) = (c ,d)\n",
        "x_test = np.array(image_arr_test)\n",
        "y_test = np.array(label_arr_test)\n",
        "\n",
        "x_test = x_test.reshape(x_test.shape[0], img_rows, img_cols, 1)\n",
        "x_test = x_test.astype('float32')\n",
        "x_test /= 255\n",
        "y_test = keras.utils.to_categorical(y_test, num_classes)\n",
        "score = model.evaluate(x_test, y_test, verbose=0)\n",
        "print('Test loss:', score[0])\n",
        "print('Test accuracy:', score[1])"
      ],
      "execution_count": 0,
      "outputs": []
    },
    {
      "metadata": {
        "id": "dcTBLdXMoHdD",
        "colab_type": "code",
        "colab": {
          "autoexec": {
            "startup": false,
            "wait_interval": 0
          }
        }
      },
      "cell_type": "code",
      "source": [
        "from google.colab import files\n",
        "files.download('my-model.h5')"
      ],
      "execution_count": 0,
      "outputs": []
    },
    {
      "metadata": {
        "id": "i5Pjg9wvo4C9",
        "colab_type": "code",
        "colab": {
          "autoexec": {
            "startup": false,
            "wait_interval": 0
          }
        }
      },
      "cell_type": "code",
      "source": [
        "!ls -lh"
      ],
      "execution_count": 0,
      "outputs": []
    },
    {
      "metadata": {
        "id": "S12v50hfpcj6",
        "colab_type": "code",
        "colab": {
          "autoexec": {
            "startup": false,
            "wait_interval": 0
          }
        }
      },
      "cell_type": "code",
      "source": [
        "###################\n",
        "# Yet to be tried #\n",
        "###################\n",
        "# Install the PyDrive wrapper & import libraries.\n",
        "# This only needs to be done once in a notebook.\n",
        "!pip install -U -q PyDrive\n",
        "from pydrive.auth import GoogleAuth\n",
        "from pydrive.drive import GoogleDrive\n",
        "from google.colab import auth\n",
        "from oauth2client.client import GoogleCredentials\n",
        "\n",
        "# Authenticate and create the PyDrive client.\n",
        "# This only needs to be done once in a notebook.\n",
        "auth.authenticate_user()\n",
        "gauth = GoogleAuth()\n",
        "gauth.credentials = GoogleCredentials.get_application_default()\n",
        "drive = GoogleDrive(gauth)\n",
        "\n",
        "# Create & upload a text file.\n",
        "uploaded = drive.CreateFile({'title': 'Sample file.txt'})\n",
        "uploaded.SetContentString('Sample upload file content')\n",
        "uploaded.Upload()\n",
        "print('Uploaded file with ID {}'.format(uploaded.get('id')))"
      ],
      "execution_count": 0,
      "outputs": []
    }
  ]
}